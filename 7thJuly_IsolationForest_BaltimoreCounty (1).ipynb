{
  "nbformat": 4,
  "nbformat_minor": 0,
  "metadata": {
    "colab": {
      "provenance": [],
      "collapsed_sections": []
    },
    "kernelspec": {
      "name": "python3",
      "display_name": "Python 3"
    }
  },
  "cells": [
    {
      "cell_type": "code",
      "metadata": {
        "id": "MGcVWnG_UovV",
        "colab": {
          "base_uri": "https://localhost:8080/",
          "height": 310
        },
        "outputId": "ded1a506-9b4d-4461-ccb6-17745a8c0e46"
      },
      "source": [
        "!pip install matrixprofile-ts\n",
        "! pip install pyts\n",
        "\n",
        "\n",
        "import numpy as np\n",
        "import pandas as pd\n",
        "import seaborn as sns\n",
        "import matplotlib.pyplot as plt\n",
        "from sklearn.ensemble import IsolationForest\n",
        "import matrixprofile as mp\n",
        "from matrixprofile import *\n",
        "from matrixprofile.discords import discords\n",
        "from pyts.approximation import PiecewiseAggregateApproximation"
      ],
      "execution_count": null,
      "outputs": [
        {
          "output_type": "stream",
          "text": [
            "Collecting matrixprofile-ts\n",
            "  Downloading https://files.pythonhosted.org/packages/48/29/6d2067e8632b9a9b734501653a0f68d19c557add2b15427675b9fdc615b1/matrixprofile_ts-0.0.9-py2.py3-none-any.whl\n",
            "Requirement already satisfied: numpy>=1.11.3 in /usr/local/lib/python3.6/dist-packages (from matrixprofile-ts) (1.18.5)\n",
            "Installing collected packages: matrixprofile-ts\n",
            "Successfully installed matrixprofile-ts-0.0.9\n",
            "Collecting pyts\n",
            "\u001b[?25l  Downloading https://files.pythonhosted.org/packages/b6/2b/1a62c0d32b40ee85daa8f6a6160828537b3d846c9fe93253b38846c6ec1f/pyts-0.11.0-py3-none-any.whl (2.5MB)\n",
            "\u001b[K     |████████████████████████████████| 2.5MB 3.4MB/s \n",
            "\u001b[?25hRequirement already satisfied: scipy>=1.3.0 in /usr/local/lib/python3.6/dist-packages (from pyts) (1.4.1)\n",
            "Requirement already satisfied: joblib>=0.12 in /usr/local/lib/python3.6/dist-packages (from pyts) (0.15.1)\n",
            "Requirement already satisfied: numba>=0.48.0 in /usr/local/lib/python3.6/dist-packages (from pyts) (0.48.0)\n",
            "Requirement already satisfied: numpy>=1.17.5 in /usr/local/lib/python3.6/dist-packages (from pyts) (1.18.5)\n",
            "Requirement already satisfied: scikit-learn>=0.22.1 in /usr/local/lib/python3.6/dist-packages (from pyts) (0.22.2.post1)\n",
            "Requirement already satisfied: setuptools in /usr/local/lib/python3.6/dist-packages (from numba>=0.48.0->pyts) (47.3.1)\n",
            "Requirement already satisfied: llvmlite<0.32.0,>=0.31.0dev0 in /usr/local/lib/python3.6/dist-packages (from numba>=0.48.0->pyts) (0.31.0)\n",
            "Installing collected packages: pyts\n",
            "Successfully installed pyts-0.11.0\n"
          ],
          "name": "stdout"
        }
      ]
    },
    {
      "cell_type": "code",
      "metadata": {
        "id": "7AVhQBaoVLsF"
      },
      "source": [
        "df1=pd.read_csv('/content/sample_data/us-counties-iso.csv')\n",
        "\n",
        "\n",
        "#Selected Baltimore County for the analysis\n",
        "\n",
        "df1_B = df1[df1[\"county\"] == \"Baltimore\"]\n",
        "df1_B_groupby = df1_B.groupby(\"date\").sum()\n",
        "cases_B = df1_B_groupby[\"cases\"].values\n",
        "\n",
        "new_dailycases_B = []\n",
        "new_dailycases_B.append(cases_B[0])\n",
        "\n",
        "for i in range(len(cases_B)-1):\n",
        "    num_cases = cases_B[i+1] - cases_B[i]\n",
        "    new_dailycases_B.append(num_cases)\n",
        "\n",
        "new_dailycases_B = np.array(new_dailycases_B)\n",
        "new_dailycases_B\n",
        "#print(new_dailycases_B)\n",
        "#print(len(new_dailycases_B))\n",
        "\n",
        "\n",
        "#Adding a new column to the existing dataframe\n",
        "df1_B_groupby[\"New Daily Cases\"] = new_dailycases_B\n",
        "\n",
        "\n",
        "#Converting above dataframe to a CSV file\n",
        "df1_B_groupby.to_csv(\"B_1 Non Cumu Data.csv\")"
      ],
      "execution_count": null,
      "outputs": []
    },
    {
      "cell_type": "code",
      "metadata": {
        "id": "OrzCZPYqV0ux",
        "colab": {
          "base_uri": "https://localhost:8080/",
          "height": 68
        },
        "outputId": "398b8a57-3bec-4a86-c26c-c41b3e5012e3"
      },
      "source": [
        "df_converted = pd.read_csv('B_1 Non Cumu Data.csv')\n",
        "model=IsolationForest(n_estimators=50, max_samples='auto', contamination=float(0.1),max_features=1.0)\n",
        "model.fit(df_converted[['New Daily Cases']])"
      ],
      "execution_count": null,
      "outputs": [
        {
          "output_type": "execute_result",
          "data": {
            "text/plain": [
              "IsolationForest(behaviour='deprecated', bootstrap=False, contamination=0.1,\n",
              "                max_features=1.0, max_samples='auto', n_estimators=50,\n",
              "                n_jobs=None, random_state=None, verbose=0, warm_start=False)"
            ]
          },
          "metadata": {
            "tags": []
          },
          "execution_count": 9
        }
      ]
    },
    {
      "cell_type": "code",
      "metadata": {
        "id": "8km40VhvWfaz",
        "colab": {
          "base_uri": "https://localhost:8080/",
          "height": 420
        },
        "outputId": "09a34d06-06c4-49ab-97b9-2e206f47ef97"
      },
      "source": [
        "df_converted['scores']=model.decision_function(df_converted[['New Daily Cases']])\n",
        "df_converted['anomaly']=model.predict(df_converted[['New Daily Cases']])\n",
        "df_converted.head(118)"
      ],
      "execution_count": null,
      "outputs": [
        {
          "output_type": "execute_result",
          "data": {
            "text/html": [
              "<div>\n",
              "<style scoped>\n",
              "    .dataframe tbody tr th:only-of-type {\n",
              "        vertical-align: middle;\n",
              "    }\n",
              "\n",
              "    .dataframe tbody tr th {\n",
              "        vertical-align: top;\n",
              "    }\n",
              "\n",
              "    .dataframe thead th {\n",
              "        text-align: right;\n",
              "    }\n",
              "</style>\n",
              "<table border=\"1\" class=\"dataframe\">\n",
              "  <thead>\n",
              "    <tr style=\"text-align: right;\">\n",
              "      <th></th>\n",
              "      <th>date</th>\n",
              "      <th>fips</th>\n",
              "      <th>cases</th>\n",
              "      <th>deaths</th>\n",
              "      <th>New Daily Cases</th>\n",
              "      <th>scores</th>\n",
              "      <th>anomaly</th>\n",
              "    </tr>\n",
              "  </thead>\n",
              "  <tbody>\n",
              "    <tr>\n",
              "      <th>0</th>\n",
              "      <td>2020-03-11</td>\n",
              "      <td>24005.0</td>\n",
              "      <td>1</td>\n",
              "      <td>0</td>\n",
              "      <td>1</td>\n",
              "      <td>0.055418</td>\n",
              "      <td>1</td>\n",
              "    </tr>\n",
              "    <tr>\n",
              "      <th>1</th>\n",
              "      <td>2020-03-12</td>\n",
              "      <td>24005.0</td>\n",
              "      <td>1</td>\n",
              "      <td>0</td>\n",
              "      <td>0</td>\n",
              "      <td>0.034180</td>\n",
              "      <td>1</td>\n",
              "    </tr>\n",
              "    <tr>\n",
              "      <th>2</th>\n",
              "      <td>2020-03-13</td>\n",
              "      <td>24005.0</td>\n",
              "      <td>2</td>\n",
              "      <td>0</td>\n",
              "      <td>1</td>\n",
              "      <td>0.055418</td>\n",
              "      <td>1</td>\n",
              "    </tr>\n",
              "    <tr>\n",
              "      <th>3</th>\n",
              "      <td>2020-03-14</td>\n",
              "      <td>24005.0</td>\n",
              "      <td>3</td>\n",
              "      <td>0</td>\n",
              "      <td>1</td>\n",
              "      <td>0.055418</td>\n",
              "      <td>1</td>\n",
              "    </tr>\n",
              "    <tr>\n",
              "      <th>4</th>\n",
              "      <td>2020-03-15</td>\n",
              "      <td>24005.0</td>\n",
              "      <td>3</td>\n",
              "      <td>0</td>\n",
              "      <td>0</td>\n",
              "      <td>0.034180</td>\n",
              "      <td>1</td>\n",
              "    </tr>\n",
              "    <tr>\n",
              "      <th>...</th>\n",
              "      <td>...</td>\n",
              "      <td>...</td>\n",
              "      <td>...</td>\n",
              "      <td>...</td>\n",
              "      <td>...</td>\n",
              "      <td>...</td>\n",
              "      <td>...</td>\n",
              "    </tr>\n",
              "    <tr>\n",
              "      <th>113</th>\n",
              "      <td>2020-07-02</td>\n",
              "      <td>24005.0</td>\n",
              "      <td>8126</td>\n",
              "      <td>474</td>\n",
              "      <td>64</td>\n",
              "      <td>0.120807</td>\n",
              "      <td>1</td>\n",
              "    </tr>\n",
              "    <tr>\n",
              "      <th>114</th>\n",
              "      <td>2020-07-03</td>\n",
              "      <td>24005.0</td>\n",
              "      <td>8204</td>\n",
              "      <td>478</td>\n",
              "      <td>78</td>\n",
              "      <td>0.075651</td>\n",
              "      <td>1</td>\n",
              "    </tr>\n",
              "    <tr>\n",
              "      <th>115</th>\n",
              "      <td>2020-07-04</td>\n",
              "      <td>24005.0</td>\n",
              "      <td>8255</td>\n",
              "      <td>480</td>\n",
              "      <td>51</td>\n",
              "      <td>0.122133</td>\n",
              "      <td>1</td>\n",
              "    </tr>\n",
              "    <tr>\n",
              "      <th>116</th>\n",
              "      <td>2020-07-05</td>\n",
              "      <td>24005.0</td>\n",
              "      <td>8306</td>\n",
              "      <td>481</td>\n",
              "      <td>51</td>\n",
              "      <td>0.122133</td>\n",
              "      <td>1</td>\n",
              "    </tr>\n",
              "    <tr>\n",
              "      <th>117</th>\n",
              "      <td>2020-07-06</td>\n",
              "      <td>24005.0</td>\n",
              "      <td>8356</td>\n",
              "      <td>482</td>\n",
              "      <td>50</td>\n",
              "      <td>0.125060</td>\n",
              "      <td>1</td>\n",
              "    </tr>\n",
              "  </tbody>\n",
              "</table>\n",
              "<p>118 rows × 7 columns</p>\n",
              "</div>"
            ],
            "text/plain": [
              "           date     fips  cases  deaths  New Daily Cases    scores  anomaly\n",
              "0    2020-03-11  24005.0      1       0                1  0.055418        1\n",
              "1    2020-03-12  24005.0      1       0                0  0.034180        1\n",
              "2    2020-03-13  24005.0      2       0                1  0.055418        1\n",
              "3    2020-03-14  24005.0      3       0                1  0.055418        1\n",
              "4    2020-03-15  24005.0      3       0                0  0.034180        1\n",
              "..          ...      ...    ...     ...              ...       ...      ...\n",
              "113  2020-07-02  24005.0   8126     474               64  0.120807        1\n",
              "114  2020-07-03  24005.0   8204     478               78  0.075651        1\n",
              "115  2020-07-04  24005.0   8255     480               51  0.122133        1\n",
              "116  2020-07-05  24005.0   8306     481               51  0.122133        1\n",
              "117  2020-07-06  24005.0   8356     482               50  0.125060        1\n",
              "\n",
              "[118 rows x 7 columns]"
            ]
          },
          "metadata": {
            "tags": []
          },
          "execution_count": 11
        }
      ]
    },
    {
      "cell_type": "code",
      "metadata": {
        "id": "-iSVCsKVW7ZP",
        "colab": {
          "base_uri": "https://localhost:8080/",
          "height": 241
        },
        "outputId": "77c2ba18-452a-41fb-bfa5-4592ae63c176"
      },
      "source": [
        "anomaly=df_converted.loc[df_converted['anomaly']==-1]\n",
        "anomaly_index=list(anomaly.index)\n",
        "print(len(anomaly))\n",
        "print(anomaly)"
      ],
      "execution_count": null,
      "outputs": [
        {
          "output_type": "stream",
          "text": [
            "11\n",
            "          date     fips  cases  deaths  New Daily Cases    scores  anomaly\n",
            "28  2020-04-08  24005.0    866      13              214 -0.191842       -1\n",
            "45  2020-04-25  24005.0   2397      79              154 -0.041744       -1\n",
            "51  2020-05-01  24005.0   3026     129              182 -0.139562       -1\n",
            "52  2020-05-02  24005.0   3197     139              171 -0.078253       -1\n",
            "54  2020-05-04  24005.0   3463     151              148 -0.012403       -1\n",
            "55  2020-05-05  24005.0   3445     157              -18 -0.160358       -1\n",
            "59  2020-05-09  24005.0   3753     185              -25 -0.184877       -1\n",
            "64  2020-05-14  24005.0   4306     223              131 -0.006455       -1\n",
            "66  2020-05-16  24005.0   4566     240              150 -0.017375       -1\n",
            "69  2020-05-19  24005.0   4936     263              169 -0.076848       -1\n",
            "82  2020-06-01  24005.0   6315     349              235 -0.227684       -1\n"
          ],
          "name": "stdout"
        }
      ]
    }
  ]
}